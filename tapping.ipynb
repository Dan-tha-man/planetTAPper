{
 "cells": [
  {
   "cell_type": "code",
   "execution_count": 4,
   "id": "a59f8f45",
   "metadata": {},
   "outputs": [],
   "source": [
    "import numpy as np\n",
    "import astropy\n",
    "import requests"
   ]
  },
  {
   "cell_type": "markdown",
   "id": "d97a318f",
   "metadata": {},
   "source": [
    "$$\n",
    "\\text{TAP example with the GAVO Data Center TAP Service:}\n",
    "$$"
   ]
  },
  {
   "cell_type": "code",
   "execution_count": 5,
   "id": "0312389e",
   "metadata": {},
   "outputs": [
    {
     "name": "stdout",
     "output_type": "stream",
     "text": [
      "<DALResultsTable length=5>\n",
      "     source_id              ra                dec         phot_g_mean_mag\n",
      "                           deg                deg               mag      \n",
      "       int64             float64            float64           float32    \n",
      "------------------- ------------------ ------------------ ---------------\n",
      "2162809607452221440 315.96596187101636 45.945474015208106            19.0\n",
      "2000273643933171456  337.1829026565382   50.7218533537033            19.0\n",
      "2171530448339798784  323.9151025188806  51.27690705826792            19.0\n",
      "2171810342771336704 323.25913736080776  51.94305655940998            19.0\n",
      "2180349528028140800  310.5233961869657   50.3486391034819            19.0\n"
     ]
    }
   ],
   "source": [
    "import pyvo as vo\n",
    "tap_service = vo.dal.TAPService(\"http://dc.g-vo.org/tap\")\n",
    "ex_query = \"\"\"\n",
    "    SELECT TOP 5\n",
    "    source_id, ra, dec, phot_g_mean_mag\n",
    "    FROM gaia.dr3lite\n",
    "    WHERE phot_g_mean_mag BETWEEN 19 AND 20\n",
    "    ORDER BY phot_g_mean_mag\n",
    "    \"\"\"\n",
    "result = tap_service.search(ex_query)\n",
    "print(result)"
   ]
  },
  {
   "cell_type": "markdown",
   "id": "86e9ccbb",
   "metadata": {},
   "source": [
    "$$\n",
    "\\text{Exoplanet Archive TAP System:}\n",
    "$$"
   ]
  },
  {
   "cell_type": "code",
   "execution_count": 12,
   "id": "cf644fe1",
   "metadata": {},
   "outputs": [],
   "source": [
    "exotap = vo.dal.TAPService(\"https://exoplanetarchive.ipac.caltech.edu/TAP\")\n",
    "query = \"\"\"\n",
    "    SELECT TOP 5\n",
    "    \n",
    "    FROM pscomppars\n",
    "    \"\"\""
   ]
  },
  {
   "cell_type": "markdown",
   "id": "7c0a0c10",
   "metadata": {},
   "source": []
  }
 ],
 "metadata": {
  "kernelspec": {
   "display_name": "codeastro",
   "language": "python",
   "name": "python3"
  },
  "language_info": {
   "codemirror_mode": {
    "name": "ipython",
    "version": 3
   },
   "file_extension": ".py",
   "mimetype": "text/x-python",
   "name": "python",
   "nbconvert_exporter": "python",
   "pygments_lexer": "ipython3",
   "version": "3.10.18"
  }
 },
 "nbformat": 4,
 "nbformat_minor": 5
}
